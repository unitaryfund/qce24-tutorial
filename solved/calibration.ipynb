{
 "cells": [
  {
   "cell_type": "markdown",
   "metadata": {},
   "source": [
    "# Calibration\n",
    "\n",
    "This section of the tutorial will cover the calibration module of Mitiq. \n",
    "\n",
    "Before running this tutorial, make sure you have `mitiq` installed.\n",
    "```\n",
    "pip install mitiq\n",
    "```\n",
    "Use `pip list | grep mitiq` to ensure it is installed."
   ]
  },
  {
   "cell_type": "code",
   "execution_count": 8,
   "metadata": {},
   "outputs": [],
   "source": [
    "# If you have not already done so, you can instll mitiq by uncommenting out the line below\n",
    "# %pip install mitiq"
   ]
  },
  {
   "cell_type": "code",
   "execution_count": 31,
   "metadata": {},
   "outputs": [],
   "source": [
    "from mitiq import (\n",
    "    Calibrator,\n",
    "    SUPPORTED_PROGRAM_TYPES,\n",
    "    MeasurementResult\n",
    ")\n",
    "from mitiq.calibration import PEC_SETTINGS\n",
    "\n",
    "import numpy as np\n",
    "import cirq\n",
    "from qiskit_ibm_runtime.fake_provider import FakeJakartaV2  # Fake (simulated) QPU"
   ]
  },
  {
   "cell_type": "markdown",
   "metadata": {},
   "source": [
    "## Executor for Calibration\n",
    "When using the calibration module to test different mitigation techniques, you must define an executor that returns measured bitstrings. "
   ]
  },
  {
   "cell_type": "code",
   "execution_count": 23,
   "metadata": {},
   "outputs": [],
   "source": [
    "def execute_cirq_circuit(circuit, noise_level=0.001):\n",
    "    \"\"\"Return bitstrings outcomes from circuit executions performed by\n",
    "    a density matrix simulation with depolarizing noise.\"\"\"\n",
    "    circuit = circuit.with_noise(cirq.depolarize(p=noise_level))\n",
    "    result = cirq.DensityMatrixSimulator().run(circuit, repetitions=100)\n",
    "    bitstrings = np.column_stack(list(result.measurements.values()))\n",
    "    return MeasurementResult(bitstrings)"
   ]
  },
  {
   "cell_type": "code",
   "execution_count": null,
   "metadata": {},
   "outputs": [],
   "source": [
    "def execute_qiskit_circuit(circuit, shots=100):\n",
    "    \"\"\"Return bitstrings outcomes from circuit executions performed by\n",
    "    the FakeJakartaV2 simulator with noise.\"\"\"\n",
    "    noisy_backend = FakeJakartaV2()\n",
    "    noisy_result = noisy_backend.run(circuit, shots=shots).result()\n",
    "    noisy_counts = noisy_result.get_counts(circuit)\n",
    "    noisy_counts = { k.replace(\" \",\"\"):v for k, v in noisy_counts.items()}\n",
    "    measurements = MeasurementResult.from_counts(noisy_counts)\n",
    "    return measurements"
   ]
  },
  {
   "cell_type": "markdown",
   "metadata": {},
   "source": [
    "## Run the Calibrator\n",
    "Now that the executor is defined, we can instantiate the Calibrator by passing in the executor along with a `fronted`."
   ]
  },
  {
   "cell_type": "code",
   "execution_count": 11,
   "metadata": {},
   "outputs": [
    {
     "data": {
      "text/plain": [
       "['braket', 'cirq', 'pennylane', 'pyquil', 'qibo', 'qiskit']"
      ]
     },
     "execution_count": 11,
     "metadata": {},
     "output_type": "execute_result"
    }
   ],
   "source": [
    "mitiq.SUPPORTED_PROGRAM_TYPES.keys()"
   ]
  },
  {
   "cell_type": "code",
   "execution_count": 18,
   "metadata": {},
   "outputs": [],
   "source": [
    "cal = Calibrator(execute_with_depolarizing, frontend=\"cirq\")\n",
    "cal.run()"
   ]
  },
  {
   "cell_type": "code",
   "execution_count": null,
   "metadata": {},
   "outputs": [],
   "source": [
    "cal.best_strategy()"
   ]
  },
  {
   "cell_type": "code",
   "execution_count": 19,
   "metadata": {},
   "outputs": [
    {
     "name": "stdout",
     "output_type": "stream",
     "text": [
      "┌──────────────────────────┬────────────────────────────────────┬────────────────────────────┐\n",
      "│ benchmark                │ strategy                           │ performance                │\n",
      "├──────────────────────────┼────────────────────────────────────┼────────────────────────────┤\n",
      "│ Type: ghz                │ Technique: ZNE                     │ ✔                          │\n",
      "│ Num qubits: 2            │ Factory: Linear                    │ Noisy error: 0.05          │\n",
      "│ Circuit depth: 2         │ Scale factors: 1.0, 3.0, 5.0       │ Mitigated error: 0.0158    │\n",
      "│ Two qubit gate count: 1  │ Scale method: fold_global          │ Improvement factor: 3.1579 │\n",
      "├──────────────────────────┼────────────────────────────────────┼────────────────────────────┤\n",
      "│ Type: ghz                │ Technique: ZNE                     │ ✔                          │\n",
      "│ Num qubits: 2            │ Factory: Linear                    │ Noisy error: 0.05          │\n",
      "│ Circuit depth: 2         │ Scale factors: 1.0, 3.0, 5.0       │ Mitigated error: 0.0175    │\n",
      "│ Two qubit gate count: 1  │ Scale method: fold_gates_at_random │ Improvement factor: 2.8571 │\n",
      "├──────────────────────────┼────────────────────────────────────┼────────────────────────────┤\n",
      "│ Type: ghz                │ Technique: ZNE                     │ ✔                          │\n",
      "│ Num qubits: 2            │ Factory: Linear                    │ Noisy error: 0.05          │\n",
      "│ Circuit depth: 2         │ Scale factors: 1.0, 2.0, 3.0       │ Mitigated error: 0.0333    │\n",
      "│ Two qubit gate count: 1  │ Scale method: fold_global          │ Improvement factor: 1.5    │\n",
      "├──────────────────────────┼────────────────────────────────────┼────────────────────────────┤\n",
      "│ Type: ghz                │ Technique: ZNE                     │ ✘                          │\n",
      "│ Num qubits: 2            │ Factory: Richardson                │ Noisy error: 0.05          │\n",
      "│ Circuit depth: 2         │ Scale factors: 1.0, 3.0, 5.0       │ Mitigated error: 0.0712    │\n",
      "│ Two qubit gate count: 1  │ Scale method: fold_global          │ Improvement factor: 0.7018 │\n",
      "├──────────────────────────┼────────────────────────────────────┼────────────────────────────┤\n",
      "│ Type: ghz                │ Technique: ZNE                     │ ✘                          │\n",
      "│ Num qubits: 2            │ Factory: Linear                    │ Noisy error: 0.05          │\n",
      "│ Circuit depth: 2         │ Scale factors: 1.0, 2.0, 3.0       │ Mitigated error: 0.0933    │\n",
      "│ Two qubit gate count: 1  │ Scale method: fold_gates_at_random │ Improvement factor: 0.5357 │\n",
      "├──────────────────────────┼────────────────────────────────────┼────────────────────────────┤\n",
      "│ Type: ghz                │ Technique: ZNE                     │ ✘                          │\n",
      "│ Num qubits: 2            │ Factory: Richardson                │ Noisy error: 0.05          │\n",
      "│ Circuit depth: 2         │ Scale factors: 1.0, 3.0, 5.0       │ Mitigated error: 0.1637    │\n",
      "│ Two qubit gate count: 1  │ Scale method: fold_gates_at_random │ Improvement factor: 0.3053 │\n",
      "├──────────────────────────┼────────────────────────────────────┼────────────────────────────┤\n",
      "│ Type: ghz                │ Technique: ZNE                     │ ✘                          │\n",
      "│ Num qubits: 2            │ Factory: Richardson                │ Noisy error: 0.05          │\n",
      "│ Circuit depth: 2         │ Scale factors: 1.0, 2.0, 3.0       │ Mitigated error: 0.21      │\n",
      "│ Two qubit gate count: 1  │ Scale method: fold_gates_at_random │ Improvement factor: 0.2381 │\n",
      "├──────────────────────────┼────────────────────────────────────┼────────────────────────────┤\n",
      "│ Type: ghz                │ Technique: ZNE                     │ ✘                          │\n",
      "│ Num qubits: 2            │ Factory: Richardson                │ Noisy error: 0.05          │\n",
      "│ Circuit depth: 2         │ Scale factors: 1.0, 2.0, 3.0       │ Mitigated error: 0.32      │\n",
      "│ Two qubit gate count: 1  │ Scale method: fold_global          │ Improvement factor: 0.1562 │\n",
      "├──────────────────────────┼────────────────────────────────────┼────────────────────────────┤\n",
      "│ Type: w                  │ Technique: ZNE                     │ ✔                          │\n",
      "│ Num qubits: 2            │ Factory: Richardson                │ Noisy error: 0.5           │\n",
      "│ Circuit depth: 2         │ Scale factors: 1.0, 2.0, 3.0       │ Mitigated error: 0.49      │\n",
      "│ Two qubit gate count: 2  │ Scale method: fold_global          │ Improvement factor: 1.0204 │\n",
      "├──────────────────────────┼────────────────────────────────────┼────────────────────────────┤\n",
      "│ Type: w                  │ Technique: ZNE                     │ ✔                          │\n",
      "│ Num qubits: 2            │ Factory: Richardson                │ Noisy error: 0.5           │\n",
      "│ Circuit depth: 2         │ Scale factors: 1.0, 3.0, 5.0       │ Mitigated error: 0.4962    │\n",
      "│ Two qubit gate count: 2  │ Scale method: fold_global          │ Improvement factor: 1.0076 │\n",
      "├──────────────────────────┼────────────────────────────────────┼────────────────────────────┤\n",
      "│ Type: w                  │ Technique: ZNE                     │ ✔                          │\n",
      "│ Num qubits: 2            │ Factory: Richardson                │ Noisy error: 0.5           │\n",
      "│ Circuit depth: 2         │ Scale factors: 1.0, 3.0, 5.0       │ Mitigated error: 0.4962    │\n",
      "│ Two qubit gate count: 2  │ Scale method: fold_gates_at_random │ Improvement factor: 1.0076 │\n",
      "├──────────────────────────┼────────────────────────────────────┼────────────────────────────┤\n",
      "│ Type: w                  │ Technique: ZNE                     │ ✔                          │\n",
      "│ Num qubits: 2            │ Factory: Linear                    │ Noisy error: 0.5           │\n",
      "│ Circuit depth: 2         │ Scale factors: 1.0, 2.0, 3.0       │ Mitigated error: 0.4967    │\n",
      "│ Two qubit gate count: 2  │ Scale method: fold_gates_at_random │ Improvement factor: 1.0067 │\n",
      "├──────────────────────────┼────────────────────────────────────┼────────────────────────────┤\n",
      "│ Type: w                  │ Technique: ZNE                     │ ✘                          │\n",
      "│ Num qubits: 2            │ Factory: Linear                    │ Noisy error: 0.5           │\n",
      "│ Circuit depth: 2         │ Scale factors: 1.0, 2.0, 3.0       │ Mitigated error: 0.5       │\n",
      "│ Two qubit gate count: 2  │ Scale method: fold_global          │ Improvement factor: 1.0    │\n",
      "├──────────────────────────┼────────────────────────────────────┼────────────────────────────┤\n",
      "│ Type: w                  │ Technique: ZNE                     │ ✘                          │\n",
      "│ Num qubits: 2            │ Factory: Linear                    │ Noisy error: 0.5           │\n",
      "│ Circuit depth: 2         │ Scale factors: 1.0, 3.0, 5.0       │ Mitigated error: 0.5008    │\n",
      "│ Two qubit gate count: 2  │ Scale method: fold_global          │ Improvement factor: 0.9983 │\n",
      "├──────────────────────────┼────────────────────────────────────┼────────────────────────────┤\n",
      "│ Type: w                  │ Technique: ZNE                     │ ✘                          │\n",
      "│ Num qubits: 2            │ Factory: Linear                    │ Noisy error: 0.5           │\n",
      "│ Circuit depth: 2         │ Scale factors: 1.0, 3.0, 5.0       │ Mitigated error: 0.5042    │\n",
      "│ Two qubit gate count: 2  │ Scale method: fold_gates_at_random │ Improvement factor: 0.9917 │\n",
      "├──────────────────────────┼────────────────────────────────────┼────────────────────────────┤\n",
      "│ Type: w                  │ Technique: ZNE                     │ ✘                          │\n",
      "│ Num qubits: 2            │ Factory: Richardson                │ Noisy error: 0.5           │\n",
      "│ Circuit depth: 2         │ Scale factors: 1.0, 2.0, 3.0       │ Mitigated error: 0.56      │\n",
      "│ Two qubit gate count: 2  │ Scale method: fold_gates_at_random │ Improvement factor: 0.8929 │\n",
      "├──────────────────────────┼────────────────────────────────────┼────────────────────────────┤\n",
      "│ Type: rb                 │ Technique: ZNE                     │ ✔                          │\n",
      "│ Num qubits: 2            │ Factory: Richardson                │ Noisy error: 0.04          │\n",
      "│ Circuit depth: 57        │ Scale factors: 1.0, 3.0, 5.0       │ Mitigated error: 0.0225    │\n",
      "│ Two qubit gate count: 14 │ Scale method: fold_gates_at_random │ Improvement factor: 1.7778 │\n",
      "├──────────────────────────┼────────────────────────────────────┼────────────────────────────┤\n",
      "│ Type: rb                 │ Technique: ZNE                     │ ✔                          │\n",
      "│ Num qubits: 2            │ Factory: Linear                    │ Noisy error: 0.04          │\n",
      "│ Circuit depth: 57        │ Scale factors: 1.0, 3.0, 5.0       │ Mitigated error: 0.0283    │\n",
      "│ Two qubit gate count: 14 │ Scale method: fold_gates_at_random │ Improvement factor: 1.4118 │\n",
      "├──────────────────────────┼────────────────────────────────────┼────────────────────────────┤\n",
      "│ Type: rb                 │ Technique: ZNE                     │ ✘                          │\n",
      "│ Num qubits: 2            │ Factory: Linear                    │ Noisy error: 0.04          │\n",
      "│ Circuit depth: 57        │ Scale factors: 1.0, 2.0, 3.0       │ Mitigated error: 0.05      │\n",
      "│ Two qubit gate count: 14 │ Scale method: fold_gates_at_random │ Improvement factor: 0.8    │\n",
      "├──────────────────────────┼────────────────────────────────────┼────────────────────────────┤\n",
      "│ Type: rb                 │ Technique: ZNE                     │ ✘                          │\n",
      "│ Num qubits: 2            │ Factory: Linear                    │ Noisy error: 0.04          │\n",
      "│ Circuit depth: 57        │ Scale factors: 1.0, 3.0, 5.0       │ Mitigated error: 0.0608    │\n",
      "│ Two qubit gate count: 14 │ Scale method: fold_global          │ Improvement factor: 0.6575 │\n",
      "├──────────────────────────┼────────────────────────────────────┼────────────────────────────┤\n",
      "│ Type: rb                 │ Technique: ZNE                     │ ✘                          │\n",
      "│ Num qubits: 2            │ Factory: Linear                    │ Noisy error: 0.04          │\n",
      "│ Circuit depth: 57        │ Scale factors: 1.0, 2.0, 3.0       │ Mitigated error: 0.0633    │\n",
      "│ Two qubit gate count: 14 │ Scale method: fold_global          │ Improvement factor: 0.6316 │\n",
      "├──────────────────────────┼────────────────────────────────────┼────────────────────────────┤\n",
      "│ Type: rb                 │ Technique: ZNE                     │ ✘                          │\n",
      "│ Num qubits: 2            │ Factory: Richardson                │ Noisy error: 0.04          │\n",
      "│ Circuit depth: 57        │ Scale factors: 1.0, 2.0, 3.0       │ Mitigated error: 0.11      │\n",
      "│ Two qubit gate count: 14 │ Scale method: fold_gates_at_random │ Improvement factor: 0.3636 │\n",
      "├──────────────────────────┼────────────────────────────────────┼────────────────────────────┤\n",
      "│ Type: rb                 │ Technique: ZNE                     │ ✘                          │\n",
      "│ Num qubits: 2            │ Factory: Richardson                │ Noisy error: 0.04          │\n",
      "│ Circuit depth: 57        │ Scale factors: 1.0, 2.0, 3.0       │ Mitigated error: 0.12      │\n",
      "│ Two qubit gate count: 14 │ Scale method: fold_global          │ Improvement factor: 0.3333 │\n",
      "├──────────────────────────┼────────────────────────────────────┼────────────────────────────┤\n",
      "│ Type: rb                 │ Technique: ZNE                     │ ✘                          │\n",
      "│ Num qubits: 2            │ Factory: Richardson                │ Noisy error: 0.04          │\n",
      "│ Circuit depth: 57        │ Scale factors: 1.0, 3.0, 5.0       │ Mitigated error: 0.155     │\n",
      "│ Two qubit gate count: 14 │ Scale method: fold_global          │ Improvement factor: 0.2581 │\n",
      "├──────────────────────────┼────────────────────────────────────┼────────────────────────────┤\n",
      "│ Type: mirror             │ Technique: ZNE                     │ ✔                          │\n",
      "│ Num qubits: 2            │ Factory: Linear                    │ Noisy error: 0.04          │\n",
      "│ Circuit depth: 33        │ Scale factors: 1.0, 3.0, 5.0       │ Mitigated error: 0.005     │\n",
      "│ Two qubit gate count: 14 │ Scale method: fold_gates_at_random │ Improvement factor: 8.0    │\n",
      "├──────────────────────────┼────────────────────────────────────┼────────────────────────────┤\n",
      "│ Type: mirror             │ Technique: ZNE                     │ ✔                          │\n",
      "│ Num qubits: 2            │ Factory: Richardson                │ Noisy error: 0.04          │\n",
      "│ Circuit depth: 33        │ Scale factors: 1.0, 3.0, 5.0       │ Mitigated error: 0.0075    │\n",
      "│ Two qubit gate count: 14 │ Scale method: fold_gates_at_random │ Improvement factor: 5.3333 │\n",
      "├──────────────────────────┼────────────────────────────────────┼────────────────────────────┤\n",
      "│ Type: mirror             │ Technique: ZNE                     │ ✔                          │\n",
      "│ Num qubits: 2            │ Factory: Richardson                │ Noisy error: 0.04          │\n",
      "│ Circuit depth: 33        │ Scale factors: 1.0, 2.0, 3.0       │ Mitigated error: 0.01      │\n",
      "│ Two qubit gate count: 14 │ Scale method: fold_global          │ Improvement factor: 4.0    │\n",
      "├──────────────────────────┼────────────────────────────────────┼────────────────────────────┤\n",
      "│ Type: mirror             │ Technique: ZNE                     │ ✔                          │\n",
      "│ Num qubits: 2            │ Factory: Linear                    │ Noisy error: 0.04          │\n",
      "│ Circuit depth: 33        │ Scale factors: 1.0, 2.0, 3.0       │ Mitigated error: 0.0167    │\n",
      "│ Two qubit gate count: 14 │ Scale method: fold_gates_at_random │ Improvement factor: 2.4    │\n",
      "├──────────────────────────┼────────────────────────────────────┼────────────────────────────┤\n",
      "│ Type: mirror             │ Technique: ZNE                     │ ✔                          │\n",
      "│ Num qubits: 2            │ Factory: Richardson                │ Noisy error: 0.04          │\n",
      "│ Circuit depth: 33        │ Scale factors: 1.0, 2.0, 3.0       │ Mitigated error: 0.02      │\n",
      "│ Two qubit gate count: 14 │ Scale method: fold_gates_at_random │ Improvement factor: 2.0    │\n",
      "├──────────────────────────┼────────────────────────────────────┼────────────────────────────┤\n",
      "│ Type: mirror             │ Technique: ZNE                     │ ✘                          │\n",
      "│ Num qubits: 2            │ Factory: Linear                    │ Noisy error: 0.04          │\n",
      "│ Circuit depth: 33        │ Scale factors: 1.0, 2.0, 3.0       │ Mitigated error: 0.05      │\n",
      "│ Two qubit gate count: 14 │ Scale method: fold_global          │ Improvement factor: 0.8    │\n",
      "├──────────────────────────┼────────────────────────────────────┼────────────────────────────┤\n",
      "│ Type: mirror             │ Technique: ZNE                     │ ✘                          │\n",
      "│ Num qubits: 2            │ Factory: Linear                    │ Noisy error: 0.04          │\n",
      "│ Circuit depth: 33        │ Scale factors: 1.0, 3.0, 5.0       │ Mitigated error: 0.0575    │\n",
      "│ Two qubit gate count: 14 │ Scale method: fold_global          │ Improvement factor: 0.6957 │\n",
      "├──────────────────────────┼────────────────────────────────────┼────────────────────────────┤\n",
      "│ Type: mirror             │ Technique: ZNE                     │ ✘                          │\n",
      "│ Num qubits: 2            │ Factory: Richardson                │ Noisy error: 0.04          │\n",
      "│ Circuit depth: 33        │ Scale factors: 1.0, 3.0, 5.0       │ Mitigated error: 0.1238    │\n",
      "│ Two qubit gate count: 14 │ Scale method: fold_global          │ Improvement factor: 0.3232 │\n",
      "└──────────────────────────┴────────────────────────────────────┴────────────────────────────┘\n"
     ]
    }
   ],
   "source": [
    "cal = Calibrator(execute_with_depolarizing, frontend=\"cirq\")\n",
    "cal.run(log=\"flat\")"
   ]
  },
  {
   "cell_type": "code",
   "execution_count": 17,
   "metadata": {},
   "outputs": [
    {
     "name": "stdout",
     "output_type": "stream",
     "text": [
      "┌────────────────────────────────────┬────────────────────────────┬────────────────────────────┬────────────────────────────┬────────────────────────────┐\n",
      "│ strategy\\benchmark                 │ Type: ghz                  │ Type: w                    │ Type: rb                   │ Type: mirror               │\n",
      "│                                    │ Num qubits: 2              │ Num qubits: 2              │ Num qubits: 2              │ Num qubits: 2              │\n",
      "│                                    │ Circuit depth: 2           │ Circuit depth: 2           │ Circuit depth: 45          │ Circuit depth: 33          │\n",
      "│                                    │ Two qubit gate count: 1    │ Two qubit gate count: 2    │ Two qubit gate count: 10   │ Two qubit gate count: 14   │\n",
      "├────────────────────────────────────┼────────────────────────────┼────────────────────────────┼────────────────────────────┼────────────────────────────┤\n",
      "│ Technique: ZNE                     │ ✘                          │ ✘                          │ ✘                          │ ✔                          │\n",
      "│ Factory: Richardson                │ Noisy error: 0.02          │ Noisy error: 0.5           │ Noisy error: 0.07          │ Noisy error: 0.04          │\n",
      "│ Scale factors: 1.0, 2.0, 3.0       │ Mitigated error: 0.29      │ Mitigated error: 0.53      │ Mitigated error: 0.09      │ Mitigated error: 0.03      │\n",
      "│ Scale method: fold_global          │ Improvement factor: 0.069  │ Improvement factor: 0.9434 │ Improvement factor: 0.7778 │ Improvement factor: 1.3333 │\n",
      "├────────────────────────────────────┼────────────────────────────┼────────────────────────────┼────────────────────────────┼────────────────────────────┤\n",
      "│ Technique: ZNE                     │ ✘                          │ ✔                          │ ✔                          │ ✔                          │\n",
      "│ Factory: Richardson                │ Noisy error: 0.02          │ Noisy error: 0.5           │ Noisy error: 0.07          │ Noisy error: 0.04          │\n",
      "│ Scale factors: 1.0, 3.0, 5.0       │ Mitigated error: 0.0463    │ Mitigated error: 0.4962    │ Mitigated error: 0.01      │ Mitigated error: 0.03      │\n",
      "│ Scale method: fold_global          │ Improvement factor: 0.4324 │ Improvement factor: 1.0076 │ Improvement factor: 7.0    │ Improvement factor: 1.3333 │\n",
      "├────────────────────────────────────┼────────────────────────────┼────────────────────────────┼────────────────────────────┼────────────────────────────┤\n",
      "│ Technique: ZNE                     │ ✘                          │ ✘                          │ ✘                          │ ✘                          │\n",
      "│ Factory: Linear                    │ Noisy error: 0.02          │ Noisy error: 0.5           │ Noisy error: 0.07          │ Noisy error: 0.04          │\n",
      "│ Scale factors: 1.0, 2.0, 3.0       │ Mitigated error: 0.0233    │ Mitigated error: 0.5       │ Mitigated error: 0.07      │ Mitigated error: 0.0667    │\n",
      "│ Scale method: fold_global          │ Improvement factor: 0.8571 │ Improvement factor: 1.0    │ Improvement factor: 1.0    │ Improvement factor: 0.6    │\n",
      "├────────────────────────────────────┼────────────────────────────┼────────────────────────────┼────────────────────────────┼────────────────────────────┤\n",
      "│ Technique: ZNE                     │ ✔                          │ ✔                          │ ✔                          │ ✔                          │\n",
      "│ Factory: Linear                    │ Noisy error: 0.02          │ Noisy error: 0.5           │ Noisy error: 0.07          │ Noisy error: 0.04          │\n",
      "│ Scale factors: 1.0, 3.0, 5.0       │ Mitigated error: 0.0058    │ Mitigated error: 0.4933    │ Mitigated error: 0.0492    │ Mitigated error: 0.0067    │\n",
      "│ Scale method: fold_global          │ Improvement factor: 3.4286 │ Improvement factor: 1.0135 │ Improvement factor: 1.4237 │ Improvement factor: 6.0    │\n",
      "├────────────────────────────────────┼────────────────────────────┼────────────────────────────┼────────────────────────────┼────────────────────────────┤\n",
      "│ Technique: ZNE                     │ ✘                          │ ✘                          │ ✔                          │ ✔                          │\n",
      "│ Factory: Richardson                │ Noisy error: 0.02          │ Noisy error: 0.5           │ Noisy error: 0.07          │ Noisy error: 0.04          │\n",
      "│ Scale factors: 1.0, 2.0, 3.0       │ Mitigated error: 0.16      │ Mitigated error: 0.53      │ Mitigated error: 0.05      │ Mitigated error: 0.01      │\n",
      "│ Scale method: fold_gates_at_random │ Improvement factor: 0.125  │ Improvement factor: 0.9434 │ Improvement factor: 1.4    │ Improvement factor: 4.0    │\n",
      "├────────────────────────────────────┼────────────────────────────┼────────────────────────────┼────────────────────────────┼────────────────────────────┤\n",
      "│ Technique: ZNE                     │ ✘                          │ ✘                          │ ✔                          │ ✔                          │\n",
      "│ Factory: Richardson                │ Noisy error: 0.02          │ Noisy error: 0.5           │ Noisy error: 0.07          │ Noisy error: 0.04          │\n",
      "│ Scale factors: 1.0, 3.0, 5.0       │ Mitigated error: 0.05      │ Mitigated error: 0.5       │ Mitigated error: 0.0088    │ Mitigated error: 0.0387    │\n",
      "│ Scale method: fold_gates_at_random │ Improvement factor: 0.4    │ Improvement factor: 1.0    │ Improvement factor: 8.0    │ Improvement factor: 1.0323 │\n",
      "├────────────────────────────────────┼────────────────────────────┼────────────────────────────┼────────────────────────────┼────────────────────────────┤\n",
      "│ Technique: ZNE                     │ ✘                          │ ✔                          │ ✘                          │ ✔                          │\n",
      "│ Factory: Linear                    │ Noisy error: 0.02          │ Noisy error: 0.5           │ Noisy error: 0.07          │ Noisy error: 0.04          │\n",
      "│ Scale factors: 1.0, 2.0, 3.0       │ Mitigated error: 0.1533    │ Mitigated error: 0.4833    │ Mitigated error: 0.1       │ Mitigated error: 0.02      │\n",
      "│ Scale method: fold_gates_at_random │ Improvement factor: 0.1304 │ Improvement factor: 1.0345 │ Improvement factor: 0.7    │ Improvement factor: 2.0    │\n",
      "├────────────────────────────────────┼────────────────────────────┼────────────────────────────┼────────────────────────────┼────────────────────────────┤\n",
      "│ Technique: ZNE                     │ ✘                          │ ✘                          │ ✘                          │ ✔                          │\n",
      "│ Factory: Linear                    │ Noisy error: 0.02          │ Noisy error: 0.5           │ Noisy error: 0.07          │ Noisy error: 0.04          │\n",
      "│ Scale factors: 1.0, 3.0, 5.0       │ Mitigated error: 0.0567    │ Mitigated error: 0.5       │ Mitigated error: 0.0858    │ Mitigated error: 0.02      │\n",
      "│ Scale method: fold_gates_at_random │ Improvement factor: 0.3529 │ Improvement factor: 1.0    │ Improvement factor: 0.8155 │ Improvement factor: 2.0    │\n",
      "└────────────────────────────────────┴────────────────────────────┴────────────────────────────┴────────────────────────────┴────────────────────────────┘\n"
     ]
    }
   ],
   "source": [
    "cal.run(log=\"cartesian\")"
   ]
  },
  {
   "cell_type": "code",
   "execution_count": 21,
   "metadata": {},
   "outputs": [
    {
     "data": {
      "text/plain": [
       "{'technique': 'ZNE', 'factory': 'LinearFactory', 'scale_factors': [1.0, 3.0, 5.0], 'scale_method': 'fold_gates_at_random'}"
      ]
     },
     "execution_count": 21,
     "metadata": {},
     "output_type": "execute_result"
    }
   ],
   "source": [
    "cal.best_strategy()"
   ]
  },
  {
   "cell_type": "code",
   "execution_count": 24,
   "metadata": {},
   "outputs": [],
   "source": [
    "from mitiq.calibration import PEC_SETTINGS\n",
    "\n",
    "cal = Calibrator(execute_with_depolarizing, frontend=\"cirq\", settings=PEC_SETTINGS)"
   ]
  },
  {
   "cell_type": "code",
   "execution_count": 29,
   "metadata": {},
   "outputs": [
    {
     "data": {
      "text/plain": [
       "'<mitiq.calibration.settings.Settings object at 0x17b0f6090>'"
      ]
     },
     "execution_count": 29,
     "metadata": {},
     "output_type": "execute_result"
    }
   ],
   "source": [
    "print(PEC_SETTINGS)"
   ]
  },
  {
   "cell_type": "code",
   "execution_count": 26,
   "metadata": {},
   "outputs": [
    {
     "name": "stdout",
     "output_type": "stream",
     "text": [
      "┌──────────────────────────┬───────────────────────────────────────────────────┬────────────────────────────┐\n",
      "│ benchmark                │ strategy                                          │ performance                │\n",
      "├──────────────────────────┼───────────────────────────────────────────────────┼────────────────────────────┤\n",
      "│ Type: ghz                │ Technique: PEC                                    │ ✘                          │\n",
      "│ Num qubits: 2            │ Representation function: local_depolarizing_noise │ Noisy error: 0.0           │\n",
      "│ Circuit depth: 2         │ Noise level: 0.01                                 │ Mitigated error: 0.0008    │\n",
      "│ Two qubit gate count: 1  │ Noise bias: 0                                     │ Improvement factor: 0.0    │\n",
      "│                          │ Is qubit dependent: False                         │                            │\n",
      "│                          │ Num samples: 200                                  │                            │\n",
      "├──────────────────────────┼───────────────────────────────────────────────────┼────────────────────────────┤\n",
      "│ Type: ghz                │ Technique: PEC                                    │ ✘                          │\n",
      "│ Num qubits: 2            │ Representation function: local_depolarizing_noise │ Noisy error: 0.0           │\n",
      "│ Circuit depth: 2         │ Noise level: 0.001                                │ Mitigated error: 0.0025    │\n",
      "│ Two qubit gate count: 1  │ Noise bias: 0                                     │ Improvement factor: 0.0    │\n",
      "│                          │ Is qubit dependent: False                         │                            │\n",
      "│                          │ Num samples: 200                                  │                            │\n",
      "├──────────────────────────┼───────────────────────────────────────────────────┼────────────────────────────┤\n",
      "│ Type: w                  │ Technique: PEC                                    │ ✔                          │\n",
      "│ Num qubits: 2            │ Representation function: local_depolarizing_noise │ Noisy error: 0.5           │\n",
      "│ Circuit depth: 2         │ Noise level: 0.001                                │ Mitigated error: 0.4983    │\n",
      "│ Two qubit gate count: 2  │ Noise bias: 0                                     │ Improvement factor: 1.0034 │\n",
      "│                          │ Is qubit dependent: False                         │                            │\n",
      "│                          │ Num samples: 200                                  │                            │\n",
      "├──────────────────────────┼───────────────────────────────────────────────────┼────────────────────────────┤\n",
      "│ Type: w                  │ Technique: PEC                                    │ ✔                          │\n",
      "│ Num qubits: 2            │ Representation function: local_depolarizing_noise │ Noisy error: 0.5           │\n",
      "│ Circuit depth: 2         │ Noise level: 0.01                                 │ Mitigated error: 0.4985    │\n",
      "│ Two qubit gate count: 2  │ Noise bias: 0                                     │ Improvement factor: 1.0031 │\n",
      "│                          │ Is qubit dependent: False                         │                            │\n",
      "│                          │ Num samples: 200                                  │                            │\n",
      "├──────────────────────────┼───────────────────────────────────────────────────┼────────────────────────────┤\n",
      "│ Type: rb                 │ Technique: PEC                                    │ ✘                          │\n",
      "│ Num qubits: 2            │ Representation function: local_depolarizing_noise │ Noisy error: 0.07          │\n",
      "│ Circuit depth: 56        │ Noise level: 0.001                                │ Mitigated error: 0.0957    │\n",
      "│ Two qubit gate count: 14 │ Noise bias: 0                                     │ Improvement factor: 0.7313 │\n",
      "│                          │ Is qubit dependent: False                         │                            │\n",
      "│                          │ Num samples: 200                                  │                            │\n",
      "├──────────────────────────┼───────────────────────────────────────────────────┼────────────────────────────┤\n",
      "│ Type: rb                 │ Technique: PEC                                    │ ✘                          │\n",
      "│ Num qubits: 2            │ Representation function: local_depolarizing_noise │ Noisy error: 0.07          │\n",
      "│ Circuit depth: 56        │ Noise level: 0.01                                 │ Mitigated error: 0.111     │\n",
      "│ Two qubit gate count: 14 │ Noise bias: 0                                     │ Improvement factor: 0.6306 │\n",
      "│                          │ Is qubit dependent: False                         │                            │\n",
      "│                          │ Num samples: 200                                  │                            │\n",
      "├──────────────────────────┼───────────────────────────────────────────────────┼────────────────────────────┤\n",
      "│ Type: mirror             │ Technique: PEC                                    │ ✔                          │\n",
      "│ Num qubits: 2            │ Representation function: local_depolarizing_noise │ Noisy error: 0.06          │\n",
      "│ Circuit depth: 33        │ Noise level: 0.001                                │ Mitigated error: 0.0276    │\n",
      "│ Two qubit gate count: 14 │ Noise bias: 0                                     │ Improvement factor: 2.1778 │\n",
      "│                          │ Is qubit dependent: False                         │                            │\n",
      "│                          │ Num samples: 200                                  │                            │\n",
      "├──────────────────────────┼───────────────────────────────────────────────────┼────────────────────────────┤\n",
      "│ Type: mirror             │ Technique: PEC                                    │ ✘                          │\n",
      "│ Num qubits: 2            │ Representation function: local_depolarizing_noise │ Noisy error: 0.06          │\n",
      "│ Circuit depth: 33        │ Noise level: 0.01                                 │ Mitigated error: 0.2228    │\n",
      "│ Two qubit gate count: 14 │ Noise bias: 0                                     │ Improvement factor: 0.2693 │\n",
      "│                          │ Is qubit dependent: False                         │                            │\n",
      "│                          │ Num samples: 200                                  │                            │\n",
      "└──────────────────────────┴───────────────────────────────────────────────────┴────────────────────────────┘\n"
     ]
    }
   ],
   "source": [
    "cal.run(log=\"flat\")"
   ]
  },
  {
   "cell_type": "code",
   "execution_count": 30,
   "metadata": {},
   "outputs": [
    {
     "data": {
      "text/plain": [
       "{'technique': 'PEC', 'representation_function': 'represent_operation_with_local_depolarizing_noise', 'noise_level': 0.001, 'noise_bias': 0, 'is_qubit_dependent': False, 'num_samples': 200}"
      ]
     },
     "execution_count": 30,
     "metadata": {},
     "output_type": "execute_result"
    }
   ],
   "source": [
    "cal.best_strategy()"
   ]
  },
  {
   "cell_type": "code",
   "execution_count": null,
   "metadata": {},
   "outputs": [],
   "source": []
  }
 ],
 "metadata": {
  "kernelspec": {
   "display_name": "Python 3",
   "language": "python",
   "name": "python3"
  },
  "language_info": {
   "codemirror_mode": {
    "name": "ipython",
    "version": 3
   },
   "file_extension": ".py",
   "mimetype": "text/x-python",
   "name": "python",
   "nbconvert_exporter": "python",
   "pygments_lexer": "ipython3",
   "version": "3.11.9"
  }
 },
 "nbformat": 4,
 "nbformat_minor": 2
}
