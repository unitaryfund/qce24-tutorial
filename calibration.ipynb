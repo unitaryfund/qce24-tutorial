{
 "cells": [
  {
   "cell_type": "markdown",
   "metadata": {},
   "source": [
    "# Calibration\n",
    "\n",
    "This section of the tutorial will cover the calibration module of Mitiq. \n",
    "\n",
    "Before running this tutorial, make sure you have `mitiq` installed.\n",
    "```\n",
    "pip install mitiq\n",
    "```\n",
    "Use `pip list | grep mitiq` to ensure it is installed."
   ]
  },
  {
   "cell_type": "code",
   "execution_count": 18,
   "metadata": {},
   "outputs": [],
   "source": [
    "# If you have not already done so, you can instll mitiq by uncommenting out the line below\n",
    "# %pip install mitiq"
   ]
  },
  {
   "cell_type": "code",
   "execution_count": 48,
   "metadata": {},
   "outputs": [],
   "source": [
    "from mitiq import (\n",
    "    Calibrator,\n",
    "    MeasurementResult\n",
    ")\n",
    "\n",
    "import numpy as np\n",
    "import cirq\n",
    "from qiskit_ibm_runtime.fake_provider import FakeJakartaV2  # Fake (simulated) QPU"
   ]
  },
  {
   "cell_type": "markdown",
   "metadata": {},
   "source": [
    "## Executor for Calibration\n",
    "When using the calibration module to test different mitigation techniques, you must define an executor that returns measured bitstrings. "
   ]
  },
  {
   "cell_type": "code",
   "execution_count": 36,
   "metadata": {},
   "outputs": [],
   "source": [
    "def execute_cirq_with_noise(circuit, noise_level=0.001):\n",
    "    \"\"\"Return bitstrings outcomes from circuit executions performed by\n",
    "    a density matrix simulation with depolarizing noise.\"\"\"\n",
    "    circuit = circuit.with_noise(cirq.depolarize(p=noise_level))\n",
    "    result = cirq.DensityMatrixSimulator().run(circuit, repetitions=100)\n",
    "    bitstrings = np.column_stack(list(result.measurements.values()))\n",
    "    return MeasurementResult(bitstrings)"
   ]
  },
  {
   "cell_type": "code",
   "execution_count": 21,
   "metadata": {},
   "outputs": [],
   "source": [
    "def execute_qiskit_FakeJakartaV2(circuit, shots=100):\n",
    "    \"\"\"Return bitstrings outcomes from circuit executions performed by\n",
    "    the FakeJakartaV2 simulator with noise.\"\"\"\n",
    "    noisy_backend = FakeJakartaV2()\n",
    "    noisy_result = noisy_backend.run(circuit, shots=shots).result()\n",
    "    noisy_counts = noisy_result.get_counts(circuit)\n",
    "    noisy_counts = { k.replace(\" \",\"\"):v for k, v in noisy_counts.items()}\n",
    "    measurements = MeasurementResult.from_counts(noisy_counts)\n",
    "    return measurements"
   ]
  },
  {
   "cell_type": "markdown",
   "metadata": {},
   "source": [
    "## Run the Calibrator\n",
    "Now that the executor is defined, we can instantiate the Calibrator by passing in the executor along with a `fronted`."
   ]
  },
  {
   "cell_type": "code",
   "execution_count": 37,
   "metadata": {},
   "outputs": [
    {
     "data": {
      "text/plain": [
       "['braket', 'cirq', 'pennylane', 'pyquil', 'qibo', 'qiskit']"
      ]
     },
     "execution_count": 37,
     "metadata": {},
     "output_type": "execute_result"
    }
   ],
   "source": [
    "from mitiq import SUPPORTED_PROGRAM_TYPES\n",
    "SUPPORTED_PROGRAM_TYPES.keys()"
   ]
  },
  {
   "cell_type": "code",
   "execution_count": 42,
   "metadata": {},
   "outputs": [
    {
     "name": "stdout",
     "output_type": "stream",
     "text": [
      "┌──────────────────────────┬────────────────────────────────────┬────────────────────────────┐\n",
      "│ benchmark                │ strategy                           │ performance                │\n",
      "├──────────────────────────┼────────────────────────────────────┼────────────────────────────┤\n",
      "│ Type: ghz                │ Technique: ZNE                     │ ✔                          │\n",
      "│ Num qubits: 2            │ Factory: Linear                    │ Noisy error: 0.03          │\n",
      "│ Circuit depth: 2         │ Scale factors: 1.0, 3.0, 5.0       │ Mitigated error: 0.01      │\n",
      "│ Two qubit gate count: 1  │ Scale method: fold_gates_at_random │ Improvement factor: 3.0    │\n",
      "├──────────────────────────┼────────────────────────────────────┼────────────────────────────┤\n",
      "│ Type: ghz                │ Technique: ZNE                     │ ✔                          │\n",
      "│ Num qubits: 2            │ Factory: Linear                    │ Noisy error: 0.03          │\n",
      "│ Circuit depth: 2         │ Scale factors: 1.0, 2.0, 3.0       │ Mitigated error: 0.0133    │\n",
      "│ Two qubit gate count: 1  │ Scale method: fold_gates_at_random │ Improvement factor: 2.25   │\n",
      "├──────────────────────────┼────────────────────────────────────┼────────────────────────────┤\n",
      "│ Type: ghz                │ Technique: ZNE                     │ ✔                          │\n",
      "│ Num qubits: 2            │ Factory: Linear                    │ Noisy error: 0.03          │\n",
      "│ Circuit depth: 2         │ Scale factors: 1.0, 3.0, 5.0       │ Mitigated error: 0.0283    │\n",
      "│ Two qubit gate count: 1  │ Scale method: fold_global          │ Improvement factor: 1.0588 │\n",
      "├──────────────────────────┼────────────────────────────────────┼────────────────────────────┤\n",
      "│ Type: ghz                │ Technique: ZNE                     │ ✘                          │\n",
      "│ Num qubits: 2            │ Factory: Richardson                │ Noisy error: 0.03          │\n",
      "│ Circuit depth: 2         │ Scale factors: 1.0, 3.0, 5.0       │ Mitigated error: 0.0613    │\n",
      "│ Two qubit gate count: 1  │ Scale method: fold_gates_at_random │ Improvement factor: 0.4898 │\n",
      "├──────────────────────────┼────────────────────────────────────┼────────────────────────────┤\n",
      "│ Type: ghz                │ Technique: ZNE                     │ ✘                          │\n",
      "│ Num qubits: 2            │ Factory: Richardson                │ Noisy error: 0.03          │\n",
      "│ Circuit depth: 2         │ Scale factors: 1.0, 3.0, 5.0       │ Mitigated error: 0.0837    │\n",
      "│ Two qubit gate count: 1  │ Scale method: fold_global          │ Improvement factor: 0.3582 │\n",
      "├──────────────────────────┼────────────────────────────────────┼────────────────────────────┤\n",
      "│ Type: ghz                │ Technique: ZNE                     │ ✘                          │\n",
      "│ Num qubits: 2            │ Factory: Richardson                │ Noisy error: 0.03          │\n",
      "│ Circuit depth: 2         │ Scale factors: 1.0, 2.0, 3.0       │ Mitigated error: 0.16      │\n",
      "│ Two qubit gate count: 1  │ Scale method: fold_gates_at_random │ Improvement factor: 0.1875 │\n",
      "├──────────────────────────┼────────────────────────────────────┼────────────────────────────┤\n",
      "│ Type: ghz                │ Technique: ZNE                     │ ✘                          │\n",
      "│ Num qubits: 2            │ Factory: Linear                    │ Noisy error: 0.03          │\n",
      "│ Circuit depth: 2         │ Scale factors: 1.0, 2.0, 3.0       │ Mitigated error: 0.1633    │\n",
      "│ Two qubit gate count: 1  │ Scale method: fold_global          │ Improvement factor: 0.1837 │\n",
      "├──────────────────────────┼────────────────────────────────────┼────────────────────────────┤\n",
      "│ Type: ghz                │ Technique: ZNE                     │ ✘                          │\n",
      "│ Num qubits: 2            │ Factory: Richardson                │ Noisy error: 0.03          │\n",
      "│ Circuit depth: 2         │ Scale factors: 1.0, 2.0, 3.0       │ Mitigated error: 0.52      │\n",
      "│ Two qubit gate count: 1  │ Scale method: fold_global          │ Improvement factor: 0.0577 │\n",
      "├──────────────────────────┼────────────────────────────────────┼────────────────────────────┤\n",
      "│ Type: w                  │ Technique: ZNE                     │ ✔                          │\n",
      "│ Num qubits: 2            │ Factory: Richardson                │ Noisy error: 0.5           │\n",
      "│ Circuit depth: 2         │ Scale factors: 1.0, 3.0, 5.0       │ Mitigated error: 0.4925    │\n",
      "│ Two qubit gate count: 2  │ Scale method: fold_global          │ Improvement factor: 1.0152 │\n",
      "├──────────────────────────┼────────────────────────────────────┼────────────────────────────┤\n",
      "│ Type: w                  │ Technique: ZNE                     │ ✔                          │\n",
      "│ Num qubits: 2            │ Factory: Richardson                │ Noisy error: 0.5           │\n",
      "│ Circuit depth: 2         │ Scale factors: 1.0, 3.0, 5.0       │ Mitigated error: 0.4962    │\n",
      "│ Two qubit gate count: 2  │ Scale method: fold_gates_at_random │ Improvement factor: 1.0076 │\n",
      "├──────────────────────────┼────────────────────────────────────┼────────────────────────────┤\n",
      "│ Type: w                  │ Technique: ZNE                     │ ✔                          │\n",
      "│ Num qubits: 2            │ Factory: Linear                    │ Noisy error: 0.5           │\n",
      "│ Circuit depth: 2         │ Scale factors: 1.0, 2.0, 3.0       │ Mitigated error: 0.4967    │\n",
      "│ Two qubit gate count: 2  │ Scale method: fold_gates_at_random │ Improvement factor: 1.0067 │\n",
      "├──────────────────────────┼────────────────────────────────────┼────────────────────────────┤\n",
      "│ Type: w                  │ Technique: ZNE                     │ ✘                          │\n",
      "│ Num qubits: 2            │ Factory: Richardson                │ Noisy error: 0.5           │\n",
      "│ Circuit depth: 2         │ Scale factors: 1.0, 2.0, 3.0       │ Mitigated error: 0.5       │\n",
      "│ Two qubit gate count: 2  │ Scale method: fold_global          │ Improvement factor: 1.0    │\n",
      "├──────────────────────────┼────────────────────────────────────┼────────────────────────────┤\n",
      "│ Type: w                  │ Technique: ZNE                     │ ✘                          │\n",
      "│ Num qubits: 2            │ Factory: Linear                    │ Noisy error: 0.5           │\n",
      "│ Circuit depth: 2         │ Scale factors: 1.0, 2.0, 3.0       │ Mitigated error: 0.5       │\n",
      "│ Two qubit gate count: 2  │ Scale method: fold_global          │ Improvement factor: 1.0    │\n",
      "├──────────────────────────┼────────────────────────────────────┼────────────────────────────┤\n",
      "│ Type: w                  │ Technique: ZNE                     │ ✘                          │\n",
      "│ Num qubits: 2            │ Factory: Richardson                │ Noisy error: 0.5           │\n",
      "│ Circuit depth: 2         │ Scale factors: 1.0, 2.0, 3.0       │ Mitigated error: 0.5       │\n",
      "│ Two qubit gate count: 2  │ Scale method: fold_gates_at_random │ Improvement factor: 1.0    │\n",
      "├──────────────────────────┼────────────────────────────────────┼────────────────────────────┤\n",
      "│ Type: w                  │ Technique: ZNE                     │ ✘                          │\n",
      "│ Num qubits: 2            │ Factory: Linear                    │ Noisy error: 0.5           │\n",
      "│ Circuit depth: 2         │ Scale factors: 1.0, 3.0, 5.0       │ Mitigated error: 0.5008    │\n",
      "│ Two qubit gate count: 2  │ Scale method: fold_global          │ Improvement factor: 0.9983 │\n",
      "├──────────────────────────┼────────────────────────────────────┼────────────────────────────┤\n",
      "│ Type: w                  │ Technique: ZNE                     │ ✘                          │\n",
      "│ Num qubits: 2            │ Factory: Linear                    │ Noisy error: 0.5           │\n",
      "│ Circuit depth: 2         │ Scale factors: 1.0, 3.0, 5.0       │ Mitigated error: 0.5042    │\n",
      "│ Two qubit gate count: 2  │ Scale method: fold_gates_at_random │ Improvement factor: 0.9917 │\n",
      "├──────────────────────────┼────────────────────────────────────┼────────────────────────────┤\n",
      "│ Type: rb                 │ Technique: ZNE                     │ ✔                          │\n",
      "│ Num qubits: 2            │ Factory: Richardson                │ Noisy error: 0.05          │\n",
      "│ Circuit depth: 59        │ Scale factors: 1.0, 2.0, 3.0       │ Mitigated error: 0.01      │\n",
      "│ Two qubit gate count: 14 │ Scale method: fold_global          │ Improvement factor: 5.0    │\n",
      "├──────────────────────────┼────────────────────────────────────┼────────────────────────────┤\n",
      "│ Type: rb                 │ Technique: ZNE                     │ ✔                          │\n",
      "│ Num qubits: 2            │ Factory: Richardson                │ Noisy error: 0.05          │\n",
      "│ Circuit depth: 59        │ Scale factors: 1.0, 3.0, 5.0       │ Mitigated error: 0.0162    │\n",
      "│ Two qubit gate count: 14 │ Scale method: fold_gates_at_random │ Improvement factor: 3.0769 │\n",
      "├──────────────────────────┼────────────────────────────────────┼────────────────────────────┤\n",
      "│ Type: rb                 │ Technique: ZNE                     │ ✔                          │\n",
      "│ Num qubits: 2            │ Factory: Linear                    │ Noisy error: 0.05          │\n",
      "│ Circuit depth: 59        │ Scale factors: 1.0, 3.0, 5.0       │ Mitigated error: 0.0183    │\n",
      "│ Two qubit gate count: 14 │ Scale method: fold_global          │ Improvement factor: 2.7273 │\n",
      "├──────────────────────────┼────────────────────────────────────┼────────────────────────────┤\n",
      "│ Type: rb                 │ Technique: ZNE                     │ ✔                          │\n",
      "│ Num qubits: 2            │ Factory: Linear                    │ Noisy error: 0.05          │\n",
      "│ Circuit depth: 59        │ Scale factors: 1.0, 2.0, 3.0       │ Mitigated error: 0.02      │\n",
      "│ Two qubit gate count: 14 │ Scale method: fold_gates_at_random │ Improvement factor: 2.5    │\n",
      "├──────────────────────────┼────────────────────────────────────┼────────────────────────────┤\n",
      "│ Type: rb                 │ Technique: ZNE                     │ ✔                          │\n",
      "│ Num qubits: 2            │ Factory: Linear                    │ Noisy error: 0.05          │\n",
      "│ Circuit depth: 59        │ Scale factors: 1.0, 2.0, 3.0       │ Mitigated error: 0.03      │\n",
      "│ Two qubit gate count: 14 │ Scale method: fold_global          │ Improvement factor: 1.6667 │\n",
      "├──────────────────────────┼────────────────────────────────────┼────────────────────────────┤\n",
      "│ Type: rb                 │ Technique: ZNE                     │ ✔                          │\n",
      "│ Num qubits: 2            │ Factory: Richardson                │ Noisy error: 0.05          │\n",
      "│ Circuit depth: 59        │ Scale factors: 1.0, 3.0, 5.0       │ Mitigated error: 0.0325    │\n",
      "│ Two qubit gate count: 14 │ Scale method: fold_global          │ Improvement factor: 1.5385 │\n",
      "├──────────────────────────┼────────────────────────────────────┼────────────────────────────┤\n",
      "│ Type: rb                 │ Technique: ZNE                     │ ✘                          │\n",
      "│ Num qubits: 2            │ Factory: Linear                    │ Noisy error: 0.05          │\n",
      "│ Circuit depth: 59        │ Scale factors: 1.0, 3.0, 5.0       │ Mitigated error: 0.0883    │\n",
      "│ Two qubit gate count: 14 │ Scale method: fold_gates_at_random │ Improvement factor: 0.566  │\n",
      "├──────────────────────────┼────────────────────────────────────┼────────────────────────────┤\n",
      "│ Type: rb                 │ Technique: ZNE                     │ ✘                          │\n",
      "│ Num qubits: 2            │ Factory: Richardson                │ Noisy error: 0.05          │\n",
      "│ Circuit depth: 59        │ Scale factors: 1.0, 2.0, 3.0       │ Mitigated error: 0.18      │\n",
      "│ Two qubit gate count: 14 │ Scale method: fold_gates_at_random │ Improvement factor: 0.2778 │\n",
      "├──────────────────────────┼────────────────────────────────────┼────────────────────────────┤\n",
      "│ Type: mirror             │ Technique: ZNE                     │ ✔                          │\n",
      "│ Num qubits: 2            │ Factory: Linear                    │ Noisy error: 0.03          │\n",
      "│ Circuit depth: 33        │ Scale factors: 1.0, 2.0, 3.0       │ Mitigated error: 0.0       │\n",
      "│ Two qubit gate count: 14 │ Scale method: fold_global          │ Improvement factor: inf    │\n",
      "├──────────────────────────┼────────────────────────────────────┼────────────────────────────┤\n",
      "│ Type: mirror             │ Technique: ZNE                     │ ✔                          │\n",
      "│ Num qubits: 2            │ Factory: Richardson                │ Noisy error: 0.03          │\n",
      "│ Circuit depth: 33        │ Scale factors: 1.0, 3.0, 5.0       │ Mitigated error: 0.0025    │\n",
      "│ Two qubit gate count: 14 │ Scale method: fold_gates_at_random │ Improvement factor: 12.0   │\n",
      "├──────────────────────────┼────────────────────────────────────┼────────────────────────────┤\n",
      "│ Type: mirror             │ Technique: ZNE                     │ ✔                          │\n",
      "│ Num qubits: 2            │ Factory: Linear                    │ Noisy error: 0.03          │\n",
      "│ Circuit depth: 33        │ Scale factors: 1.0, 3.0, 5.0       │ Mitigated error: 0.0242    │\n",
      "│ Two qubit gate count: 14 │ Scale method: fold_gates_at_random │ Improvement factor: 1.2414 │\n",
      "├──────────────────────────┼────────────────────────────────────┼────────────────────────────┤\n",
      "│ Type: mirror             │ Technique: ZNE                     │ ✔                          │\n",
      "│ Num qubits: 2            │ Factory: Richardson                │ Noisy error: 0.03          │\n",
      "│ Circuit depth: 33        │ Scale factors: 1.0, 2.0, 3.0       │ Mitigated error: 0.03      │\n",
      "│ Two qubit gate count: 14 │ Scale method: fold_gates_at_random │ Improvement factor: 1.0    │\n",
      "├──────────────────────────┼────────────────────────────────────┼────────────────────────────┤\n",
      "│ Type: mirror             │ Technique: ZNE                     │ ✘                          │\n",
      "│ Num qubits: 2            │ Factory: Linear                    │ Noisy error: 0.03          │\n",
      "│ Circuit depth: 33        │ Scale factors: 1.0, 2.0, 3.0       │ Mitigated error: 0.0467    │\n",
      "│ Two qubit gate count: 14 │ Scale method: fold_gates_at_random │ Improvement factor: 0.6429 │\n",
      "├──────────────────────────┼────────────────────────────────────┼────────────────────────────┤\n",
      "│ Type: mirror             │ Technique: ZNE                     │ ✘                          │\n",
      "│ Num qubits: 2            │ Factory: Linear                    │ Noisy error: 0.03          │\n",
      "│ Circuit depth: 33        │ Scale factors: 1.0, 3.0, 5.0       │ Mitigated error: 0.0558    │\n",
      "│ Two qubit gate count: 14 │ Scale method: fold_global          │ Improvement factor: 0.5373 │\n",
      "├──────────────────────────┼────────────────────────────────────┼────────────────────────────┤\n",
      "│ Type: mirror             │ Technique: ZNE                     │ ✘                          │\n",
      "│ Num qubits: 2            │ Factory: Richardson                │ Noisy error: 0.03          │\n",
      "│ Circuit depth: 33        │ Scale factors: 1.0, 3.0, 5.0       │ Mitigated error: 0.0563    │\n",
      "│ Two qubit gate count: 14 │ Scale method: fold_global          │ Improvement factor: 0.5333 │\n",
      "├──────────────────────────┼────────────────────────────────────┼────────────────────────────┤\n",
      "│ Type: mirror             │ Technique: ZNE                     │ ✘                          │\n",
      "│ Num qubits: 2            │ Factory: Richardson                │ Noisy error: 0.03          │\n",
      "│ Circuit depth: 33        │ Scale factors: 1.0, 2.0, 3.0       │ Mitigated error: 0.09      │\n",
      "│ Two qubit gate count: 14 │ Scale method: fold_global          │ Improvement factor: 0.3333 │\n",
      "└──────────────────────────┴────────────────────────────────────┴────────────────────────────┘\n"
     ]
    },
    {
     "name": "stderr",
     "output_type": "stream",
     "text": [
      "/Users/briangoldsmith/anaconda3/envs/mitiq/lib/python3.11/site-packages/mitiq/calibration/calibrator.py:76: RuntimeWarning: divide by zero encountered in scalar divide\n",
      "  f\"Improvement factor: {round(noisy_error / mitigated_error, 4)}\"\n"
     ]
    }
   ],
   "source": [
    "cal = Calibrator(execute_cirq_with_noise, frontend=\"cirq\")\n",
    "# cal = Calibrator(execute_qiskit_FakeJakartaV2, frontend=\"qiskit\")\n",
    "cal.run(log=\"flat\")"
   ]
  },
  {
   "cell_type": "code",
   "execution_count": 40,
   "metadata": {},
   "outputs": [
    {
     "name": "stdout",
     "output_type": "stream",
     "text": [
      "┌────────────────────────────────────┬────────────────────────────┬────────────────────────────┬────────────────────────────────────────┬────────────────────────────┐\n",
      "│ strategy\\benchmark                 │ Type: ghz                  │ Type: w                    │ Type: rb                               │ Type: mirror               │\n",
      "│                                    │ Num qubits: 2              │ Num qubits: 2              │ Num qubits: 2                          │ Num qubits: 2              │\n",
      "│                                    │ Circuit depth: 2           │ Circuit depth: 2           │ Circuit depth: 48                      │ Circuit depth: 33          │\n",
      "│                                    │ Two qubit gate count: 1    │ Two qubit gate count: 2    │ Two qubit gate count: 11               │ Two qubit gate count: 14   │\n",
      "├────────────────────────────────────┼────────────────────────────┼────────────────────────────┼────────────────────────────────────────┼────────────────────────────┤\n",
      "│ Technique: ZNE                     │ ✘                          │ ✘                          │ ✔                                      │ ✘                          │\n",
      "│ Factory: Richardson                │ Noisy error: 0.09          │ Noisy error: 0.5           │ Noisy error: 0.09                      │ Noisy error: 0.03          │\n",
      "│ Scale factors: 1.0, 2.0, 3.0       │ Mitigated error: 0.1       │ Mitigated error: 0.5       │ Mitigated error: 0.0                   │ Mitigated error: 0.07      │\n",
      "│ Scale method: fold_global          │ Improvement factor: 0.9    │ Improvement factor: 1.0    │ Improvement factor: 90071992547409.89  │ Improvement factor: 0.4286 │\n",
      "├────────────────────────────────────┼────────────────────────────┼────────────────────────────┼────────────────────────────────────────┼────────────────────────────┤\n",
      "│ Technique: ZNE                     │ ✔                          │ ✘                          │ ✔                                      │ ✔                          │\n",
      "│ Factory: Richardson                │ Noisy error: 0.09          │ Noisy error: 0.5           │ Noisy error: 0.09                      │ Noisy error: 0.03          │\n",
      "│ Scale factors: 1.0, 3.0, 5.0       │ Mitigated error: 0.07      │ Mitigated error: 0.5       │ Mitigated error: 0.035                 │ Mitigated error: 0.02      │\n",
      "│ Scale method: fold_global          │ Improvement factor: 1.2857 │ Improvement factor: 1.0    │ Improvement factor: 2.5714             │ Improvement factor: 1.5    │\n",
      "├────────────────────────────────────┼────────────────────────────┼────────────────────────────┼────────────────────────────────────────┼────────────────────────────┤\n",
      "│ Technique: ZNE                     │ ✔                          │ ✘                          │ ✔                                      │ ✔                          │\n",
      "│ Factory: Linear                    │ Noisy error: 0.09          │ Noisy error: 0.5           │ Noisy error: 0.09                      │ Noisy error: 0.03          │\n",
      "│ Scale factors: 1.0, 2.0, 3.0       │ Mitigated error: 0.0033    │ Mitigated error: 0.5       │ Mitigated error: 0.0                   │ Mitigated error: 0.03      │\n",
      "│ Scale method: fold_global          │ Improvement factor: 27.0   │ Improvement factor: 1.0    │ Improvement factor: 202661983231672.25 │ Improvement factor: 1.0    │\n",
      "├────────────────────────────────────┼────────────────────────────┼────────────────────────────┼────────────────────────────────────────┼────────────────────────────┤\n",
      "│ Technique: ZNE                     │ ✔                          │ ✔                          │ ✔                                      │ ✔                          │\n",
      "│ Factory: Linear                    │ Noisy error: 0.09          │ Noisy error: 0.5           │ Noisy error: 0.09                      │ Noisy error: 0.03          │\n",
      "│ Scale factors: 1.0, 3.0, 5.0       │ Mitigated error: 0.0133    │ Mitigated error: 0.475     │ Mitigated error: 0.0542                │ Mitigated error: 0.0092    │\n",
      "│ Scale method: fold_global          │ Improvement factor: 6.75   │ Improvement factor: 1.0526 │ Improvement factor: 1.6615             │ Improvement factor: 3.2727 │\n",
      "├────────────────────────────────────┼────────────────────────────┼────────────────────────────┼────────────────────────────────────────┼────────────────────────────┤\n",
      "│ Technique: ZNE                     │ ✘                          │ ✘                          │ ✘                                      │ ✔                          │\n",
      "│ Factory: Richardson                │ Noisy error: 0.09          │ Noisy error: 0.5           │ Noisy error: 0.09                      │ Noisy error: 0.03          │\n",
      "│ Scale factors: 1.0, 2.0, 3.0       │ Mitigated error: 0.24      │ Mitigated error: 0.5       │ Mitigated error: 0.21                  │ Mitigated error: 0.02      │\n",
      "│ Scale method: fold_gates_at_random │ Improvement factor: 0.375  │ Improvement factor: 1.0    │ Improvement factor: 0.4286             │ Improvement factor: 1.5    │\n",
      "├────────────────────────────────────┼────────────────────────────┼────────────────────────────┼────────────────────────────────────────┼────────────────────────────┤\n",
      "│ Technique: ZNE                     │ ✘                          │ ✘                          │ ✔                                      │ ✘                          │\n",
      "│ Factory: Richardson                │ Noisy error: 0.09          │ Noisy error: 0.5           │ Noisy error: 0.09                      │ Noisy error: 0.03          │\n",
      "│ Scale factors: 1.0, 3.0, 5.0       │ Mitigated error: 0.2725    │ Mitigated error: 0.5       │ Mitigated error: 0.0262                │ Mitigated error: 0.0575    │\n",
      "│ Scale method: fold_gates_at_random │ Improvement factor: 0.3303 │ Improvement factor: 1.0    │ Improvement factor: 3.4286             │ Improvement factor: 0.5217 │\n",
      "├────────────────────────────────────┼────────────────────────────┼────────────────────────────┼────────────────────────────────────────┼────────────────────────────┤\n",
      "│ Technique: ZNE                     │ ✔                          │ ✘                          │ ✔                                      │ ✔                          │\n",
      "│ Factory: Linear                    │ Noisy error: 0.09          │ Noisy error: 0.5           │ Noisy error: 0.09                      │ Noisy error: 0.03          │\n",
      "│ Scale factors: 1.0, 2.0, 3.0       │ Mitigated error: 0.0567    │ Mitigated error: 0.5067    │ Mitigated error: 0.0133                │ Mitigated error: 0.0133    │\n",
      "│ Scale method: fold_gates_at_random │ Improvement factor: 1.5882 │ Improvement factor: 0.9868 │ Improvement factor: 6.75               │ Improvement factor: 2.25   │\n",
      "├────────────────────────────────────┼────────────────────────────┼────────────────────────────┼────────────────────────────────────────┼────────────────────────────┤\n",
      "│ Technique: ZNE                     │ ✔                          │ ✘                          │ ✔                                      │ ✘                          │\n",
      "│ Factory: Linear                    │ Noisy error: 0.09          │ Noisy error: 0.5           │ Noisy error: 0.09                      │ Noisy error: 0.03          │\n",
      "│ Scale factors: 1.0, 3.0, 5.0       │ Mitigated error: 0.0592    │ Mitigated error: 0.5       │ Mitigated error: 0.0158                │ Mitigated error: 0.0308    │\n",
      "│ Scale method: fold_gates_at_random │ Improvement factor: 1.5211 │ Improvement factor: 1.0    │ Improvement factor: 5.6842             │ Improvement factor: 0.973  │\n",
      "└────────────────────────────────────┴────────────────────────────┴────────────────────────────┴────────────────────────────────────────┴────────────────────────────┘\n"
     ]
    }
   ],
   "source": [
    "cal.run(log=\"cartesian\")"
   ]
  },
  {
   "cell_type": "code",
   "execution_count": 49,
   "metadata": {},
   "outputs": [
    {
     "data": {
      "text/plain": [
       "{'technique': 'PEC', 'representation_function': 'represent_operation_with_local_depolarizing_noise', 'noise_level': 0.001, 'noise_bias': 0, 'is_qubit_dependent': False, 'num_samples': 200}"
      ]
     },
     "execution_count": 49,
     "metadata": {},
     "output_type": "execute_result"
    }
   ],
   "source": [
    "cal.best_strategy()"
   ]
  },
  {
   "cell_type": "markdown",
   "metadata": {},
   "source": [
    "# SETTINGS\n",
    "The settings parameter in the Calibrator allows for specifying details about circuit and technique."
   ]
  },
  {
   "cell_type": "code",
   "execution_count": 50,
   "metadata": {},
   "outputs": [
    {
     "name": "stdout",
     "output_type": "stream",
     "text": [
      "┌──────────────────────────┬───────────────────────────────────────────────────┬────────────────────────────┐\n",
      "│ benchmark                │ strategy                                          │ performance                │\n",
      "├──────────────────────────┼───────────────────────────────────────────────────┼────────────────────────────┤\n",
      "│ Type: ghz                │ Technique: PEC                                    │ ✔                          │\n",
      "│ Num qubits: 2            │ Representation function: local_depolarizing_noise │ Noisy error: 0.04          │\n",
      "│ Circuit depth: 2         │ Noise level: 0.001                                │ Mitigated error: 0.0044    │\n",
      "│ Two qubit gate count: 1  │ Noise bias: 0                                     │ Improvement factor: 9.0915 │\n",
      "│                          │ Is qubit dependent: False                         │                            │\n",
      "│                          │ Num samples: 200                                  │                            │\n",
      "├──────────────────────────┼───────────────────────────────────────────────────┼────────────────────────────┤\n",
      "│ Type: ghz                │ Technique: PEC                                    │ ✔                          │\n",
      "│ Num qubits: 2            │ Representation function: local_depolarizing_noise │ Noisy error: 0.04          │\n",
      "│ Circuit depth: 2         │ Noise level: 0.01                                 │ Mitigated error: 0.017     │\n",
      "│ Two qubit gate count: 1  │ Noise bias: 0                                     │ Improvement factor: 2.3563 │\n",
      "│                          │ Is qubit dependent: False                         │                            │\n",
      "│                          │ Num samples: 200                                  │                            │\n",
      "├──────────────────────────┼───────────────────────────────────────────────────┼────────────────────────────┤\n",
      "│ Type: w                  │ Technique: PEC                                    │ ✔                          │\n",
      "│ Num qubits: 2            │ Representation function: local_depolarizing_noise │ Noisy error: 0.5           │\n",
      "│ Circuit depth: 2         │ Noise level: 0.001                                │ Mitigated error: 0.4987    │\n",
      "│ Two qubit gate count: 2  │ Noise bias: 0                                     │ Improvement factor: 1.0026 │\n",
      "│                          │ Is qubit dependent: False                         │                            │\n",
      "│                          │ Num samples: 200                                  │                            │\n",
      "├──────────────────────────┼───────────────────────────────────────────────────┼────────────────────────────┤\n",
      "│ Type: w                  │ Technique: PEC                                    │ ✘                          │\n",
      "│ Num qubits: 2            │ Representation function: local_depolarizing_noise │ Noisy error: 0.5           │\n",
      "│ Circuit depth: 2         │ Noise level: 0.01                                 │ Mitigated error: 0.5151    │\n",
      "│ Two qubit gate count: 2  │ Noise bias: 0                                     │ Improvement factor: 0.9708 │\n",
      "│                          │ Is qubit dependent: False                         │                            │\n",
      "│                          │ Num samples: 200                                  │                            │\n",
      "├──────────────────────────┼───────────────────────────────────────────────────┼────────────────────────────┤\n",
      "│ Type: rb                 │ Technique: PEC                                    │ ✔                          │\n",
      "│ Num qubits: 2            │ Representation function: local_depolarizing_noise │ Noisy error: 0.08          │\n",
      "│ Circuit depth: 59        │ Noise level: 0.001                                │ Mitigated error: 0.0429    │\n",
      "│ Two qubit gate count: 14 │ Noise bias: 0                                     │ Improvement factor: 1.865  │\n",
      "│                          │ Is qubit dependent: False                         │                            │\n",
      "│                          │ Num samples: 200                                  │                            │\n",
      "├──────────────────────────┼───────────────────────────────────────────────────┼────────────────────────────┤\n",
      "│ Type: rb                 │ Technique: PEC                                    │ ✔                          │\n",
      "│ Num qubits: 2            │ Representation function: local_depolarizing_noise │ Noisy error: 0.08          │\n",
      "│ Circuit depth: 59        │ Noise level: 0.01                                 │ Mitigated error: 0.066     │\n",
      "│ Two qubit gate count: 14 │ Noise bias: 0                                     │ Improvement factor: 1.2121 │\n",
      "│                          │ Is qubit dependent: False                         │                            │\n",
      "│                          │ Num samples: 200                                  │                            │\n",
      "├──────────────────────────┼───────────────────────────────────────────────────┼────────────────────────────┤\n",
      "│ Type: mirror             │ Technique: PEC                                    │ ✔                          │\n",
      "│ Num qubits: 2            │ Representation function: local_depolarizing_noise │ Noisy error: 0.04          │\n",
      "│ Circuit depth: 33        │ Noise level: 0.001                                │ Mitigated error: 0.0373    │\n",
      "│ Two qubit gate count: 14 │ Noise bias: 0                                     │ Improvement factor: 1.0718 │\n",
      "│                          │ Is qubit dependent: False                         │                            │\n",
      "│                          │ Num samples: 200                                  │                            │\n",
      "├──────────────────────────┼───────────────────────────────────────────────────┼────────────────────────────┤\n",
      "│ Type: mirror             │ Technique: PEC                                    │ ✘                          │\n",
      "│ Num qubits: 2            │ Representation function: local_depolarizing_noise │ Noisy error: 0.04          │\n",
      "│ Circuit depth: 33        │ Noise level: 0.01                                 │ Mitigated error: 0.1642    │\n",
      "│ Two qubit gate count: 14 │ Noise bias: 0                                     │ Improvement factor: 0.2436 │\n",
      "│                          │ Is qubit dependent: False                         │                            │\n",
      "│                          │ Num samples: 200                                  │                            │\n",
      "└──────────────────────────┴───────────────────────────────────────────────────┴────────────────────────────┘\n"
     ]
    }
   ],
   "source": [
    "from mitiq.calibration import PEC_SETTINGS\n",
    "\n",
    "cal = Calibrator(execute_cirq_with_noise, frontend=\"cirq\", settings=PEC_SETTINGS)\n",
    "cal.run(log=\"flat\")"
   ]
  },
  {
   "cell_type": "code",
   "execution_count": 51,
   "metadata": {},
   "outputs": [
    {
     "data": {
      "text/plain": [
       "{'technique': 'PEC', 'representation_function': 'represent_operation_with_local_depolarizing_noise', 'noise_level': 0.001, 'noise_bias': 0, 'is_qubit_dependent': False, 'num_samples': 200}"
      ]
     },
     "execution_count": 51,
     "metadata": {},
     "output_type": "execute_result"
    }
   ],
   "source": [
    "cal.best_strategy()"
   ]
  }
 ],
 "metadata": {
  "kernelspec": {
   "display_name": "Python 3",
   "language": "python",
   "name": "python3"
  },
  "language_info": {
   "codemirror_mode": {
    "name": "ipython",
    "version": 3
   },
   "file_extension": ".py",
   "mimetype": "text/x-python",
   "name": "python",
   "nbconvert_exporter": "python",
   "pygments_lexer": "ipython3",
   "version": "3.11.9"
  }
 },
 "nbformat": 4,
 "nbformat_minor": 2
}
